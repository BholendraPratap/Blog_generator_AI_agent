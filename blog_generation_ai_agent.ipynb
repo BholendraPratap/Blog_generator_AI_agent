{
 "cells": [
  {
   "cell_type": "code",
   "execution_count": 1,
   "metadata": {},
   "outputs": [],
   "source": [
    "from typing import Annotated\n",
    "from IPython.display import Image,display\n",
    "from langgraph.graph import StateGraph,START,END\n",
    "from typing_extensions import TypedDict\n",
    "\n",
    "from langgraph.graph.message import add_messages"
   ]
  },
  {
   "cell_type": "code",
   "execution_count": 2,
   "metadata": {},
   "outputs": [],
   "source": [
    "#first work to create state:\n",
    "class BlogState(TypedDict):\n",
    "    input:Annotated[list,add_messages]"
   ]
  },
  {
   "cell_type": "code",
   "execution_count": 3,
   "metadata": {},
   "outputs": [],
   "source": [
    "#importing the environment variables----\n",
    "import os \n",
    "from dotenv import load_dotenv\n",
    "load_dotenv()\n",
    "os.environ['GROQ_API_KEY']=os.getenv('GROQ_API_KEY')"
   ]
  },
  {
   "cell_type": "code",
   "execution_count": 4,
   "metadata": {},
   "outputs": [],
   "source": [
    "from langchain_groq import ChatGroq"
   ]
  },
  {
   "cell_type": "code",
   "execution_count": 5,
   "metadata": {},
   "outputs": [
    {
     "data": {
      "text/plain": [
       "ChatGroq(client=<groq.resources.chat.completions.Completions object at 0x0000029577884E30>, async_client=<groq.resources.chat.completions.AsyncCompletions object at 0x0000029577885E80>, model_name='gemma2-9b-it', model_kwargs={}, groq_api_key=SecretStr('**********'))"
      ]
     },
     "execution_count": 5,
     "metadata": {},
     "output_type": "execute_result"
    }
   ],
   "source": [
    "llm=ChatGroq(model=\"gemma2-9b-it\")\n",
    "llm"
   ]
  },
  {
   "cell_type": "code",
   "execution_count": 6,
   "metadata": {},
   "outputs": [
    {
     "data": {
      "text/plain": [
       "AIMessage(content='Hello! 👋 \\n\\nHow can I help you today? 😊\\n', additional_kwargs={}, response_metadata={'token_usage': {'completion_tokens': 16, 'prompt_tokens': 11, 'total_tokens': 27, 'completion_time': 0.029090909, 'prompt_time': 0.001914507, 'queue_time': 0.019661151, 'total_time': 0.031005416}, 'model_name': 'gemma2-9b-it', 'system_fingerprint': 'fp_10c08bf97d', 'finish_reason': 'stop', 'logprobs': None}, id='run-0a16679a-b37d-49c1-8569-50aa4d96e385-0', usage_metadata={'input_tokens': 11, 'output_tokens': 16, 'total_tokens': 27})"
      ]
     },
     "execution_count": 6,
     "metadata": {},
     "output_type": "execute_result"
    }
   ],
   "source": [
    "llm.invoke(\"hello\")"
   ]
  },
  {
   "cell_type": "markdown",
   "metadata": {},
   "source": [
    "#### till now we have done with invoking llm and all now we will buid our graph and define the nodes means node names with their functionality."
   ]
  },
  {
   "cell_type": "code",
   "execution_count": 7,
   "metadata": {},
   "outputs": [],
   "source": [
    "from langchain_core.messages import HumanMessage, SystemMessage\n",
    "\n",
    "# System message : this is same as like giving prompt to our llm.\n",
    "sys_msg1 = SystemMessage(content=\"You are a helpful assistant tasked with generating one blog title.\")\n",
    "\n",
    "# System message\n",
    "sys_msg2 = SystemMessage(content=\"You are a helpful assistant tasked with writing blogs with 1500 words with not more than 4 paragaph and in very accurate manner.\")\n",
    "\n",
    "\n",
    "def title_generator(state:BlogState):\n",
    "    return {\"input\":[llm.invoke([sys_msg1] + state[\"input\"])]}\n",
    "\n",
    "def content_generator(state:BlogState):\n",
    "    return {\"input\":[llm.invoke([sys_msg2] + state[\"input\"])]}"
   ]
  },
  {
   "cell_type": "markdown",
   "metadata": {},
   "source": [
    "##### in above cell nodes are defined. now in below cells lets code for building graph."
   ]
  },
  {
   "cell_type": "code",
   "execution_count": 8,
   "metadata": {},
   "outputs": [
    {
     "data": {
      "image/png": "[encoded data removed]",
      "text/plain": [
       "<IPython.core.display.Image object>"
      ]
     },
     "metadata": {},
     "output_type": "display_data"
    }
   ],
   "source": [
    "from langgraph.graph import START, StateGraph, END\n",
    "from IPython.display import Image, display\n",
    "\n",
    "builder=StateGraph(BlogState)\n",
    "\n",
    "## Define the node\n",
    "builder.add_node(\"title_generator\",title_generator)\n",
    "builder.add_node(\"content_generator\",content_generator)\n",
    "\n",
    "## Define the edges\n",
    "builder.add_edge(START,\"title_generator\")\n",
    "builder.add_edge(\"title_generator\",\"content_generator\")\n",
    "\n",
    "## Add the final node\n",
    "builder.add_edge(\"content_generator\", END)\n",
    "\n",
    "react_graph=builder.compile() #final builded graph object.\n",
    "\n",
    "# Show\n",
    "display(Image(react_graph.get_graph().draw_mermaid_png()))"
   ]
  },
  {
   "cell_type": "markdown",
   "metadata": {},
   "source": [
    "##### All is done now I will check that our application is working fine or not."
   ]
  },
  {
   "cell_type": "code",
   "execution_count": 9,
   "metadata": {},
   "outputs": [],
   "source": [
    "messages=[HumanMessage(content=\"How can femisim affects our indian society.\")]\n",
    "messages=react_graph.invoke({\"input\":messages})"
   ]
  },
  {
   "cell_type": "code",
   "execution_count": 10,
   "metadata": {},
   "outputs": [
    {
     "name": "stdout",
     "output_type": "stream",
     "text": [
      "================================\u001b[1m Human Message \u001b[0m=================================\n",
      "\n",
      "How can femisim affects our indian society.\n",
      "==================================\u001b[1m Ai Message \u001b[0m==================================\n",
      "\n",
      "##  Breaking Barriers: How Feminism is Shaping a More Equitable India\n",
      "==================================\u001b[1m Ai Message \u001b[0m==================================\n",
      "\n",
      " \n",
      "Feminism, the fight for social, political, and economic equality for all genders, is a powerful force that is reshaping societies worldwide. In India, a nation rich in tradition and deeply rooted in patriarchal norms, feminism is a particularly potent force, challenging long-standing societal structures and paving the way for a more equitable future.  While the concept of feminism might seem foreign to some, its impact on Indian society is undeniable, permeating various facets of life and sparking a much-needed conversation about gender equality. \n",
      "\n",
      "One of the most significant ways feminism is affecting India is through its impact on women's education and employment. For generations, girls were often denied access to education and relegated to domestic roles. However, the feminist movement has been instrumental in changing this narrative.  Increased awareness about the importance of women's education, coupled with legal reforms and initiatives aimed at empowering women, has led to a significant rise in female literacy rates and participation in the workforce. This shift is not just empowering women individually; it's also contributing to India's economic growth by unlocking the potential of half its population. \n",
      "\n",
      "Furthermore, feminism is challenging deeply ingrained gender stereotypes and promoting greater gender sensitivity. The movement is actively dismantling the notion of women as solely responsible for domestic duties and childcare, advocating for shared responsibilities within families.  This shift is reflected in the growing number of Indian men who are actively participating in household chores and childcare, recognizing the importance of equal partnership in marriage and family life.  Feminism is also challenging harmful practices like dowry, female foeticide, and gender-based violence, demanding accountability and justice for victims.  \n",
      "\n",
      "While progress has been made, the journey towards a truly equitable India is far from over.  Patriarchal attitudes and structures persist, and women continue to face discrimination and violence.  However, the feminist movement in India is gaining momentum, with a new generation of activists, artists, and intellectuals leading the charge. Through their activism, art, and voices, they are raising awareness, challenging norms, and inspiring change. The fight for gender equality in India is a complex and ongoing process, but the impact of feminism is undeniable. It is a force that is reshaping the social fabric of the nation, paving the way for a more inclusive and equitable future for all.\n"
     ]
    }
   ],
   "source": [
    "for m in messages['input']:\n",
    "    m.pretty_print()"
   ]
  },
  {
   "cell_type": "code",
   "execution_count": 11,
   "metadata": {},
   "outputs": [],
   "source": [
    "### another trial\n",
    "messages=[HumanMessage(content=\"what is effect of AI in healthcare.\")]\n",
    "messages=react_graph.invoke({\"input\":messages})"
   ]
  },
  {
   "cell_type": "code",
   "execution_count": 12,
   "metadata": {},
   "outputs": [
    {
     "name": "stdout",
     "output_type": "stream",
     "text": [
      "================================\u001b[1m Human Message \u001b[0m=================================\n",
      "\n",
      "what is effect of AI in healthcare.\n",
      "==================================\u001b[1m Ai Message \u001b[0m==================================\n",
      "\n",
      "##  AI: The Doctor Will See You Now -  Revolutionizing Healthcare with Artificial Intelligence\n",
      "==================================\u001b[1m Ai Message \u001b[0m==================================\n",
      "\n",
      "Artificial intelligence (AI) is rapidly transforming numerous industries, and healthcare is no exception. Its potential to analyze vast datasets, identify patterns, and automate tasks is revolutionizing patient care, medical research, and administrative processes. From diagnosing diseases to personalizing treatment plans, AI is poised to become an indispensable tool in the medical field, ushering in an era of more efficient, accessible, and effective healthcare.\n",
      "\n",
      "One of the most significant impacts of AI in healthcare is in diagnostics. AI algorithms can analyze medical images like X-rays, CT scans, and MRIs with remarkable accuracy, often surpassing human capabilities in detecting subtle anomalies. This allows for earlier and more precise diagnoses of conditions like cancer, cardiovascular disease, and neurological disorders. AI-powered tools can also analyze patient data, including medical history, genetic information, and lifestyle factors, to identify potential risks and predict disease outbreaks. This proactive approach enables preventative measures and personalized interventions, ultimately leading to better health outcomes.\n",
      "\n",
      "Beyond diagnostics, AI is streamlining administrative tasks and improving patient experience. AI-powered chatbots can handle routine patient inquiries, schedule appointments, and provide medication reminders, freeing up valuable time for healthcare professionals to focus on more complex cases. AI can also automate tasks like medical billing and claims processing, reducing administrative burden and improving efficiency. Moreover, AI-driven virtual assistants can provide patients with personalized health information, track their progress, and offer support, empowering individuals to take a more active role in managing their own health.\n",
      "\n",
      "Despite the immense potential, the integration of AI in healthcare also presents ethical and societal challenges. Ensuring data privacy and security is paramount, as AI algorithms rely on vast amounts of sensitive patient information. There are also concerns about algorithmic bias, where AI systems trained on biased data may perpetuate existing health disparities. Addressing these challenges requires robust regulatory frameworks, transparent algorithms, and ongoing public discourse to ensure that AI benefits all individuals equitably.  The future of healthcare is undoubtedly intertwined with AI, and by navigating these challenges responsibly, we can harness its transformative power to create a healthier and more equitable world for all.\n"
     ]
    }
   ],
   "source": [
    "for m in messages['input']:\n",
    "    m.pretty_print()"
   ]
  },
  {
   "cell_type": "code",
   "execution_count": 13,
   "metadata": {},
   "outputs": [],
   "source": [
    "#done."
   ]
  },
  {
   "cell_type": "code",
   "execution_count": null,
   "metadata": {},
   "outputs": [],
   "source": []
  }
 ],
 "metadata": {
  "kernelspec": {
   "display_name": "Python 3",
   "language": "python",
   "name": "python3"
  },
  "language_info": {
   "codemirror_mode": {
    "name": "ipython",
    "version": 3
   },
   "file_extension": ".py",
   "mimetype": "text/x-python",
   "name": "python",
   "nbconvert_exporter": "python",
   "pygments_lexer": "ipython3",
   "version": "3.12.0"
  }
 },
 "nbformat": 4,
 "nbformat_minor": 2
}
